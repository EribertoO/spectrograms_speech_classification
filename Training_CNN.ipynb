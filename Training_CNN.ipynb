{
 "cells": [
  {
   "cell_type": "markdown",
   "metadata": {},
   "source": [
    "# Notebook with a basic CNN to play around"
   ]
  },
  {
   "cell_type": "markdown",
   "metadata": {},
   "source": [
    "### Importing the libraries and setting the global variables"
   ]
  },
  {
   "cell_type": "code",
   "execution_count": 8,
   "metadata": {},
   "outputs": [],
   "source": [
    "import numpy as np\n",
    "import keras\n",
    "import os"
   ]
  },
  {
   "cell_type": "code",
   "execution_count": 11,
   "metadata": {},
   "outputs": [],
   "source": [
    "n_epochs = 5\n",
    "batch_size = 8\n",
    "num_classes = 3\n",
    "\n",
    "root_folder='..\\..'\n",
    "# Where the data resides\n",
    "data_folder_name='Datasets/speech_data/'\n",
    "# This variable permit us to limit the number of images to work with\n",
    "images_to_process=4500\n",
    "\n",
    "# ../input/\n",
    "DATA_PATH = os.path.abspath(os.path.join(root_folder, data_folder_name))\n",
    "\n",
    "x_file='x_speech_arrays_zip_100.npz'\n",
    "y_file='y_speech_labels_100.npz'"
   ]
  },
  {
   "cell_type": "markdown",
   "metadata": {},
   "source": [
    "## Loading the training data and labels"
   ]
  },
  {
   "cell_type": "code",
   "execution_count": 12,
   "metadata": {},
   "outputs": [],
   "source": [
    "#Load Data\n",
    "# Load npz file containing image arrays\n",
    "x_npz = np.load(DATA_PATH+x_file)\n",
    "x = x_npz['arr_0']\n",
    "# Load binary encoded labels for Lung Infiltrations: 0=Not_infiltration 1=Infiltration\n",
    "y_npz = np.load(DATA_PATH+y_file)\n",
    "y = y_npz['arr_0']"
   ]
  },
  {
   "cell_type": "code",
   "execution_count": 14,
   "metadata": {},
   "outputs": [
    {
     "name": "stdout",
     "output_type": "stream",
     "text": [
      "Dim X:  (100, 128, 173)\n",
      "Dim y:  (100,)\n"
     ]
    }
   ],
   "source": [
    "# Print dimensions of images and labels\n",
    "print('Dim X: ',x.shape)\n",
    "print('Dim y: ',y.shape)"
   ]
  },
  {
   "cell_type": "markdown",
   "metadata": {},
   "source": [
    "## Preparing the data for the model"
   ]
  },
  {
   "cell_type": "markdown",
   "metadata": {},
   "source": [
    "Now we can split the dataset into a training and validation dataset"
   ]
  },
  {
   "cell_type": "code",
   "execution_count": 16,
   "metadata": {},
   "outputs": [
    {
     "name": "stdout",
     "output_type": "stream",
     "text": [
      "(80, 128, 173)\n",
      "(80,)\n",
      "(10, 128, 173)\n",
      "(10,)\n"
     ]
    }
   ],
   "source": [
    "# Create training and validation datasets\n",
    "from sklearn.model_selection import train_test_split\n",
    "\n",
    "# First split the data in two sets, 80% for training, 20% for Val/Test)\n",
    "X_train, X_valtest, y_train, y_valtest = train_test_split(x,y, test_size=0.2, random_state=1, stratify=y)\n",
    "\n",
    "# Second split the 20% into validation and test sets\n",
    "X_test, X_val, y_test, y_val = train_test_split(X_valtest, y_valtest, test_size=0.5, random_state=1, stratify=y_valtest)\n",
    "\n",
    "training_set_size = X_train.shape[0]\n",
    "\n",
    "print(X_train.shape, y_train.shape, X_test.shape, y_test.shape, sep='\\n')"
   ]
  },
  {
   "cell_type": "markdown",
   "metadata": {},
   "source": [
    "We need to reshape the arrays in the dimensions expected by the Keras functions and model. Then we can convert the labels to categorical values."
   ]
  },
  {
   "cell_type": "code",
   "execution_count": 17,
   "metadata": {},
   "outputs": [],
   "source": [
    "#Reshape the input data to TensorFlow requirements: batch-N,Width,Height,Channels\n",
    "X_train = X_train.reshape(X_train.shape[0], X_train.shape[1], X_train.shape[2] , 1).astype('float32')\n",
    "X_val = X_val.reshape(X_val.shape[0], X_val.shape[1], X_val.shape[2] , 1).astype('float32')\n",
    "X_test = X_test.reshape(X_test.shape[0], X_test.shape[1], X_test.shape[2] , 1).astype('float32')\n",
    "\n",
    "# Convert class vectors to binary class matrices\n",
    "y_train = keras.utils.to_categorical(y_train, num_classes)\n",
    "y_test = keras.utils.to_categorical(y_test, num_classes)\n",
    "y_val = keras.utils.to_categorical(y_val, num_classes)"
   ]
  },
  {
   "cell_type": "code",
   "execution_count": 18,
   "metadata": {},
   "outputs": [
    {
     "name": "stdout",
     "output_type": "stream",
     "text": [
      "Dim X_train:  (80, 128, 173, 1)\n",
      "Dim y_train:  (80, 3)\n",
      "Dim X_test:  (10, 128, 173, 1)\n",
      "Dim y_test:  (10, 3)\n"
     ]
    }
   ],
   "source": [
    "# Print the dimensions of the train and test sets\n",
    "print('Dim X_train: ',X_train.shape)\n",
    "print('Dim y_train: ',y_train.shape)\n",
    "print('Dim X_test: ',X_test.shape)\n",
    "print('Dim y_test: ',y_test.shape)"
   ]
  },
  {
   "cell_type": "markdown",
   "metadata": {},
   "source": [
    "## Creating a model and training"
   ]
  },
  {
   "cell_type": "code",
   "execution_count": 19,
   "metadata": {},
   "outputs": [],
   "source": [
    "# Importing the keras modules\n",
    "from keras.models import Sequential, model_from_json\n",
    "from keras.layers import Dense, Dropout, Flatten\n",
    "from keras.layers import Conv2D, MaxPooling2D\n"
   ]
  },
  {
   "cell_type": "markdown",
   "metadata": {},
   "source": [
    "We will build a simple CNN model, just 3 convolutional and pooling layers then FC layers with some dropouts"
   ]
  },
  {
   "cell_type": "code",
   "execution_count": 20,
   "metadata": {},
   "outputs": [
    {
     "name": "stdout",
     "output_type": "stream",
     "text": [
      "WARNING:tensorflow:From C:\\Users\\edumu\\AppData\\Roaming\\Python\\Python36\\site-packages\\tensorflow\\python\\framework\\op_def_library.py:263: colocate_with (from tensorflow.python.framework.ops) is deprecated and will be removed in a future version.\n",
      "Instructions for updating:\n",
      "Colocations handled automatically by placer.\n",
      "WARNING:tensorflow:From C:\\Users\\edumu\\Anaconda3\\lib\\site-packages\\keras\\backend\\tensorflow_backend.py:3445: calling dropout (from tensorflow.python.ops.nn_ops) with keep_prob is deprecated and will be removed in a future version.\n",
      "Instructions for updating:\n",
      "Please use `rate` instead of `keep_prob`. Rate should be set to `rate = 1 - keep_prob`.\n",
      "_________________________________________________________________\n",
      "Layer (type)                 Output Shape              Param #   \n",
      "=================================================================\n",
      "conv2d_1 (Conv2D)            (None, 126, 171, 16)      160       \n",
      "_________________________________________________________________\n",
      "max_pooling2d_1 (MaxPooling2 (None, 63, 85, 16)        0         \n",
      "_________________________________________________________________\n",
      "conv2d_2 (Conv2D)            (None, 61, 83, 32)        4640      \n",
      "_________________________________________________________________\n",
      "max_pooling2d_2 (MaxPooling2 (None, 30, 41, 32)        0         \n",
      "_________________________________________________________________\n",
      "conv2d_3 (Conv2D)            (None, 28, 39, 64)        18496     \n",
      "_________________________________________________________________\n",
      "max_pooling2d_3 (MaxPooling2 (None, 14, 19, 64)        0         \n",
      "_________________________________________________________________\n",
      "dropout_1 (Dropout)          (None, 14, 19, 64)        0         \n",
      "_________________________________________________________________\n",
      "flatten_1 (Flatten)          (None, 17024)             0         \n",
      "_________________________________________________________________\n",
      "dense_1 (Dense)              (None, 64)                1089600   \n",
      "_________________________________________________________________\n",
      "dropout_2 (Dropout)          (None, 64)                0         \n",
      "_________________________________________________________________\n",
      "dense_2 (Dense)              (None, 3)                 195       \n",
      "=================================================================\n",
      "Total params: 1,113,091\n",
      "Trainable params: 1,113,091\n",
      "Non-trainable params: 0\n",
      "_________________________________________________________________\n"
     ]
    }
   ],
   "source": [
    "#Build a very simple cnn model\n",
    "model = Sequential()\n",
    "# Create a CNN 2D layer\n",
    "model.add(Conv2D(16, kernel_size=(3, 3),\n",
    "                 activation='relu',\n",
    "                 input_shape=(128,173,1)))\n",
    "# Create a Max pooling layer\n",
    "model.add(MaxPooling2D(pool_size=(2, 2)))\n",
    "# Create a CNN 2D layer\n",
    "model.add(Conv2D(32, (3, 3), activation='relu'))\n",
    "# Create a Max pooling layer\n",
    "model.add(MaxPooling2D(pool_size=(2, 2)))\n",
    "# Create a CNN 2D layer\n",
    "model.add(Conv2D(64, (3, 3), activation='relu'))\n",
    "model.add(MaxPooling2D(pool_size=(2, 2)))\n",
    "model.add(Dropout(0.3))\n",
    "# Flatten layer to feed the next dense layer\n",
    "model.add(Flatten())\n",
    "# Create a Dense Fully connected layer\n",
    "model.add(Dense(64, activation='relu'))\n",
    "model.add(Dropout(0.3))\n",
    "# Create a Dense Fully connected layer with num_classes outputs\n",
    "model.add(Dense(num_classes, activation='softmax'))\n",
    "model.summary()"
   ]
  },
  {
   "cell_type": "markdown",
   "metadata": {},
   "source": [
    "The next step define the loss function and the parameters optimizer, a version of Adam optimizer."
   ]
  },
  {
   "cell_type": "code",
   "execution_count": 21,
   "metadata": {},
   "outputs": [],
   "source": [
    "# Compile the model, using AdaDelta optimizer and cross-entropy los function\n",
    "model.compile(loss=keras.losses.categorical_crossentropy,\n",
    "              optimizer=keras.optimizers.Adadelta(),\n",
    "              metrics=['accuracy'])\n"
   ]
  },
  {
   "cell_type": "markdown",
   "metadata": {},
   "source": [
    "It is time to train our model for a few epochs"
   ]
  },
  {
   "cell_type": "code",
   "execution_count": 22,
   "metadata": {},
   "outputs": [
    {
     "name": "stdout",
     "output_type": "stream",
     "text": [
      "WARNING:tensorflow:From C:\\Users\\edumu\\AppData\\Roaming\\Python\\Python36\\site-packages\\tensorflow\\python\\ops\\math_ops.py:3066: to_int32 (from tensorflow.python.ops.math_ops) is deprecated and will be removed in a future version.\n",
      "Instructions for updating:\n",
      "Use tf.cast instead.\n",
      "Train on 80 samples, validate on 10 samples\n",
      "Epoch 1/5\n",
      " - 2s - loss: 1.1590 - acc: 0.2750 - val_loss: 1.0974 - val_acc: 0.4000\n",
      "Epoch 2/5\n",
      " - 2s - loss: 1.0953 - acc: 0.4000 - val_loss: 1.0916 - val_acc: 0.4000\n",
      "Epoch 3/5\n",
      " - 2s - loss: 1.1005 - acc: 0.4625 - val_loss: 1.0950 - val_acc: 0.5000\n",
      "Epoch 4/5\n",
      " - 2s - loss: 1.0808 - acc: 0.5375 - val_loss: 1.0895 - val_acc: 0.4000\n",
      "Epoch 5/5\n",
      " - 2s - loss: 1.0454 - acc: 0.5000 - val_loss: 1.0906 - val_acc: 0.4000\n"
     ]
    },
    {
     "data": {
      "text/plain": [
       "<keras.callbacks.History at 0x2390ab8ca20>"
      ]
     },
     "execution_count": 22,
     "metadata": {},
     "output_type": "execute_result"
    }
   ],
   "source": [
    "model.fit(X_train, y_train,\n",
    "          batch_size=batch_size,\n",
    "          epochs=n_epochs,\n",
    "          verbose=2,\n",
    "          validation_data=(X_val, y_val))"
   ]
  },
  {
   "cell_type": "code",
   "execution_count": 23,
   "metadata": {},
   "outputs": [
    {
     "data": {
      "text/plain": [
       "{'val_loss': [1.0973830699920655,\n",
       "  1.0915602207183839,\n",
       "  1.0949917316436768,\n",
       "  1.089468789100647,\n",
       "  1.0905755758285522],\n",
       " 'val_acc': [0.4, 0.4, 0.5, 0.4, 0.4],\n",
       " 'loss': [1.1589742302894592,\n",
       "  1.0953173875808715,\n",
       "  1.1004945039749146,\n",
       "  1.080777680873871,\n",
       "  1.0453876852989197],\n",
       " 'acc': [0.275, 0.4, 0.4625, 0.5375, 0.5]}"
      ]
     },
     "execution_count": 23,
     "metadata": {},
     "output_type": "execute_result"
    }
   ],
   "source": [
    "#Show the results\n",
    "model.history.history"
   ]
  },
  {
   "cell_type": "markdown",
   "metadata": {},
   "source": [
    "Now we can evaluate the model, the accuracy and the final loss for the test set"
   ]
  },
  {
   "cell_type": "code",
   "execution_count": 24,
   "metadata": {},
   "outputs": [
    {
     "name": "stdout",
     "output_type": "stream",
     "text": [
      "Test loss: 1.1220920085906982\n",
      "Test accuracy: 0.30000001192092896\n"
     ]
    }
   ],
   "source": [
    "#Evaluate the model on the test data\n",
    "score = model.evaluate(X_test, y_test, verbose=0)\n",
    "print('Test loss:', score[0])\n",
    "print('Test accuracy:', score[1])"
   ]
  },
  {
   "cell_type": "code",
   "execution_count": null,
   "metadata": {},
   "outputs": [],
   "source": []
  }
 ],
 "metadata": {
  "kernelspec": {
   "display_name": "Python 3",
   "language": "python",
   "name": "python3"
  },
  "language_info": {
   "codemirror_mode": {
    "name": "ipython",
    "version": 3
   },
   "file_extension": ".py",
   "mimetype": "text/x-python",
   "name": "python",
   "nbconvert_exporter": "python",
   "pygments_lexer": "ipython3",
   "version": "3.6.7"
  }
 },
 "nbformat": 4,
 "nbformat_minor": 2
}
